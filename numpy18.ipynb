{
  "nbformat": 4,
  "nbformat_minor": 0,
  "metadata": {
    "colab": {
      "provenance": []
    },
    "kernelspec": {
      "name": "python3",
      "display_name": "Python 3"
    },
    "language_info": {
      "name": "python"
    }
  },
  "cells": [
    {
      "cell_type": "markdown",
      "source": [
        "**NUMPY TUTORIAL**\n",
        "# NumPy is a Python library used for working with arrays.\n",
        "\n",
        "It also has functions for working in domain of linear algebra, fourier transform, and matrices.\n",
        "\n",
        "NumPy was created in 2005 by Travis Oliphant. It is an open source project and you can use it freely.\n",
        "\n",
        "NumPy stands for Numerical Python."
      ],
      "metadata": {
        "id": "29BMbdXGtZAJ"
      }
    },
    {
      "cell_type": "markdown",
      "source": [
        "# use of numpy\n",
        "* In Python we have lists that serve the purpose of arrays, but they are slow to process.\n",
        "\n",
        "* NumPy aims to provide an array object that is up to 50x faster than traditional Python lists.\n",
        "\n",
        "* The array object in NumPy is called ndarray, it provides a lot of supporting functions that make working with ndarray very easy.\n",
        "\n",
        "* Arrays are very frequently used in data science, where speed and resources are very important."
      ],
      "metadata": {
        "id": "5vA7cdwyv9vF"
      }
    },
    {
      "cell_type": "markdown",
      "source": [
        "**creating NUMPY arrays**"
      ],
      "metadata": {
        "id": "-CMGG5kswQXg"
      }
    },
    {
      "cell_type": "code",
      "source": [
        "import numpy as np\n",
        "\n",
        "arr = np.array([1, 2, 3, 4, 5])\n",
        "\n",
        "print(arr)\n",
        "\n",
        "print(type(arr))"
      ],
      "metadata": {
        "colab": {
          "base_uri": "https://localhost:8080/",
          "height": 0
        },
        "id": "yEXDMFelwMlv",
        "outputId": "a01bbe6f-3c1e-4195-87f0-ba2dbb46cef0"
      },
      "execution_count": 1,
      "outputs": [
        {
          "output_type": "stream",
          "name": "stdout",
          "text": [
            "[1 2 3 4 5]\n",
            "<class 'numpy.ndarray'>\n"
          ]
        }
      ]
    },
    {
      "cell_type": "code",
      "source": [
        "# Create a 0-D array with\n",
        "arr = np.array(42)\n",
        "\n",
        "print(arr)\n"
      ],
      "metadata": {
        "colab": {
          "base_uri": "https://localhost:8080/",
          "height": 0
        },
        "id": "H0x0Uk8TwaTq",
        "outputId": "2bd71f4e-67e7-41f5-9a8b-5741e5b93604"
      },
      "execution_count": 3,
      "outputs": [
        {
          "output_type": "stream",
          "name": "stdout",
          "text": [
            "42\n"
          ]
        }
      ]
    },
    {
      "cell_type": "code",
      "source": [
        "#Create a 1-D array containing the values\n",
        "import numpy as np\n",
        "\n",
        "arr = np.array([1, 2, 3, 4, 5])\n",
        "\n",
        "print(arr)"
      ],
      "metadata": {
        "colab": {
          "base_uri": "https://localhost:8080/",
          "height": 0
        },
        "id": "DkM6d-b_wzKg",
        "outputId": "fefb6e3b-e17d-4f61-ccad-280fca1d1ba9"
      },
      "execution_count": 4,
      "outputs": [
        {
          "output_type": "stream",
          "name": "stdout",
          "text": [
            "[1 2 3 4 5]\n"
          ]
        }
      ]
    },
    {
      "cell_type": "code",
      "source": [
        "#Create a 2-D array containing two arrays with the values 1,2,3 and 4,5,6:\n",
        "\n",
        "import numpy as np\n",
        "\n",
        "arr = np.array([[1, 2, 3], [4, 5, 6]])\n",
        "\n",
        "print(arr)"
      ],
      "metadata": {
        "colab": {
          "base_uri": "https://localhost:8080/",
          "height": 0
        },
        "id": "esWLwSXoxBik",
        "outputId": "61d534f0-7f30-41b1-f8d2-c3e01d173b71"
      },
      "execution_count": 5,
      "outputs": [
        {
          "output_type": "stream",
          "name": "stdout",
          "text": [
            "[[1 2 3]\n",
            " [4 5 6]]\n"
          ]
        }
      ]
    },
    {
      "cell_type": "code",
      "source": [
        "#Create a 3-D array with two 2-D arrays, both containing two arrays with the values 1,2,3 and 4,5,6:\n",
        "\n",
        "import numpy as np\n",
        "\n",
        "arr = np.array([[[1, 2, 3], [4, 5, 6]], [[1, 2, 3], [4, 5, 6]]])\n",
        "\n",
        "print(arr)"
      ],
      "metadata": {
        "colab": {
          "base_uri": "https://localhost:8080/",
          "height": 0
        },
        "id": "SAzpwKLTxGUB",
        "outputId": "a1f85d5f-7210-4f2b-ae91-4389e9449bfa"
      },
      "execution_count": 6,
      "outputs": [
        {
          "output_type": "stream",
          "name": "stdout",
          "text": [
            "[[[1 2 3]\n",
            "  [4 5 6]]\n",
            "\n",
            " [[1 2 3]\n",
            "  [4 5 6]]]\n"
          ]
        }
      ]
    },
    {
      "cell_type": "code",
      "source": [
        "a = np.array(42)\n",
        "b = np.array([1, 2, 3, 4, 5])\n",
        "c = np.array([[1, 2, 3], [4, 5, 6]])\n",
        "d = np.array([[[1, 2, 3], [4, 5, 6]], [[1, 2, 3], [4, 5, 6]]])\n",
        "print(a.ndim)\n",
        "print(b.ndim)\n",
        "print(c.ndim)\n",
        "print(d.ndim)"
      ],
      "metadata": {
        "colab": {
          "base_uri": "https://localhost:8080/",
          "height": 0
        },
        "id": "NOyyx9lQxe6x",
        "outputId": "b2aebb6f-5ab2-4634-93dd-077befab5f1c"
      },
      "execution_count": 7,
      "outputs": [
        {
          "output_type": "stream",
          "name": "stdout",
          "text": [
            "0\n",
            "1\n",
            "2\n",
            "3\n"
          ]
        }
      ]
    },
    {
      "cell_type": "markdown",
      "source": [
        "**NumPy Array Indexing**"
      ],
      "metadata": {
        "id": "FAs-WVvdxjwl"
      }
    },
    {
      "cell_type": "code",
      "source": [
        "#Array Indexing\n",
        "import numpy as np\n",
        "arr = np.array([1, 2, 3, 4])\n",
        "print(arr[0])"
      ],
      "metadata": {
        "colab": {
          "base_uri": "https://localhost:8080/",
          "height": 0
        },
        "id": "29bMMe2dxqTX",
        "outputId": "766e8ab1-b53b-428e-e1d8-a60357ad1f66"
      },
      "execution_count": 8,
      "outputs": [
        {
          "output_type": "stream",
          "name": "stdout",
          "text": [
            "1\n"
          ]
        }
      ]
    },
    {
      "cell_type": "markdown",
      "source": [
        "**NumPy Array slicing**"
      ],
      "metadata": {
        "id": "YUcPleWw1i5W"
      }
    },
    {
      "cell_type": "code",
      "source": [
        "#arrays Slicing\n",
        "import numpy as np\n",
        "arr = np.array([1, 2, 3, 4, 5, 6, 7])\n",
        "print(arr[1:5])"
      ],
      "metadata": {
        "colab": {
          "base_uri": "https://localhost:8080/",
          "height": 0
        },
        "id": "dcU6Wihzx7BV",
        "outputId": "21270c4b-4cd5-4527-9cb9-4c47eb605560"
      },
      "execution_count": 9,
      "outputs": [
        {
          "output_type": "stream",
          "name": "stdout",
          "text": [
            "[2 3 4 5]\n"
          ]
        }
      ]
    },
    {
      "cell_type": "markdown",
      "source": [
        "**Numpy Array Reshaping**"
      ],
      "metadata": {
        "id": "8M-9a4Cn12iD"
      }
    },
    {
      "cell_type": "code",
      "source": [
        "#Reshaping arrays\n",
        "#Reshape From 1-D to 2-D\n",
        "import numpy as np\n",
        "arr = np.array([1, 2, 3, 4, 5, 6, 7, 8, 9, 10, 11, 12])\n",
        "newarr = arr.reshape(4, 3)\n",
        "print(newarr)\n"
      ],
      "metadata": {
        "colab": {
          "base_uri": "https://localhost:8080/",
          "height": 0
        },
        "id": "Zo6y9MTQyHyi",
        "outputId": "819e9bff-6616-4fd4-be3d-4cc08125ad03"
      },
      "execution_count": 10,
      "outputs": [
        {
          "output_type": "stream",
          "name": "stdout",
          "text": [
            "[[ 1  2  3]\n",
            " [ 4  5  6]\n",
            " [ 7  8  9]\n",
            " [10 11 12]]\n"
          ]
        }
      ]
    },
    {
      "cell_type": "code",
      "source": [
        "#Reshaping arrays\n",
        "#Reshape From 1-D to 3-D\n",
        "import numpy as np\n",
        "arr = np.array([1, 2, 3, 4, 5, 6, 7, 8, 9, 10, 11, 12])\n",
        "newarr = arr.reshape(2, 3, 2)\n",
        "print(newarr)"
      ],
      "metadata": {
        "id": "oSKgw_MwyKWl"
      },
      "execution_count": null,
      "outputs": []
    },
    {
      "cell_type": "markdown",
      "source": [
        "**Mathematical Functions On Array**"
      ],
      "metadata": {
        "id": "A6sbC0kd2DAY"
      }
    },
    {
      "cell_type": "code",
      "source": [
        "#creating mathematical operations\n",
        "#sum of 2 arrays\n",
        "import numpy as np\n",
        "arr1=np.array([[1,2,3],[4,5,6]])\n",
        "arr2=np.array([[11, 22, 33], [44, 55, 66]])\n",
        "arr3=arr1+arr2;\n",
        "print(\"the sum of arrays is\\n\" ,arr3)"
      ],
      "metadata": {
        "colab": {
          "base_uri": "https://localhost:8080/",
          "height": 0
        },
        "id": "WX_ykDiZyRLA",
        "outputId": "c50c4c73-f2fd-46e9-d2f1-158ec7a3ac84"
      },
      "execution_count": 11,
      "outputs": [
        {
          "output_type": "stream",
          "name": "stdout",
          "text": [
            "the sum of arrays is\n",
            " [[12 24 36]\n",
            " [48 60 72]]\n"
          ]
        }
      ]
    },
    {
      "cell_type": "code",
      "source": [
        "#SUBTRATION of 2 arrays\n",
        "import numpy as np\n",
        "arr1=np.array([[1,2,3],[4,5,6]])\n",
        "arr2=np.array([[11, 22, 33], [44, 55, 66]])\n",
        "arr3=arr1-arr2;\n",
        "print(\"the SUB of arrays is\\n\" ,arr3)"
      ],
      "metadata": {
        "id": "Ljitap7WyXSc"
      },
      "execution_count": null,
      "outputs": []
    },
    {
      "cell_type": "code",
      "source": [
        "#multiplication of 2 arrays\n",
        "import numpy as np\n",
        "arr1=np.array([[1,2,3],[4,5,6]])\n",
        "arr2=np.array([[11, 22, 33], [44, 55, 66]])\n",
        "arr3=arr1*arr2;\n",
        "print(\"the product of arrays is\\n\" ,arr3)"
      ],
      "metadata": {
        "colab": {
          "base_uri": "https://localhost:8080/",
          "height": 0
        },
        "id": "fkVbRe7Zydi5",
        "outputId": "9b727bf5-d433-46ba-d5d8-85ddf18f29b5"
      },
      "execution_count": 12,
      "outputs": [
        {
          "output_type": "stream",
          "name": "stdout",
          "text": [
            "the product of arrays is\n",
            " [[ 11  44  99]\n",
            " [176 275 396]]\n"
          ]
        }
      ]
    },
    {
      "cell_type": "code",
      "source": [
        "arr=np.add(10,20)\n",
        "print(arr)"
      ],
      "metadata": {
        "colab": {
          "base_uri": "https://localhost:8080/",
          "height": 0
        },
        "id": "hRny1Yqqyngb",
        "outputId": "6b7ead75-c8f1-48ce-aa64-15052492a701"
      },
      "execution_count": 13,
      "outputs": [
        {
          "output_type": "stream",
          "name": "stdout",
          "text": [
            "30\n"
          ]
        }
      ]
    },
    {
      "cell_type": "markdown",
      "source": [
        "**Statistical Function**"
      ],
      "metadata": {
        "id": "Bji2REBG2QAo"
      }
    },
    {
      "cell_type": "code",
      "source": [
        "#Statistics functions-mean\\median\n",
        "import numpy as np\n",
        "a = np.array([111, 222,333,444, 555])\n",
        "print(\"mean of a is \",np.mean(a))\n",
        "print(\"median of a is \",np.median(a))"
      ],
      "metadata": {
        "colab": {
          "base_uri": "https://localhost:8080/",
          "height": 0
        },
        "id": "4n1KQvnwysNu",
        "outputId": "b617a547-bf7f-402f-c6fb-efc854ffa26f"
      },
      "execution_count": 14,
      "outputs": [
        {
          "output_type": "stream",
          "name": "stdout",
          "text": [
            "mean of a is  333.0\n",
            "median of a is  333.0\n"
          ]
        }
      ]
    },
    {
      "cell_type": "code",
      "source": [
        "#Statistics functions-standard devitation\\variance\n",
        "import numpy as np\n",
        "a = np.array([111, 222,333, 444, 555])\n",
        "print(\"standard devitation of a is \",np.std(a))\n",
        "print(\"variance of a is \",np.var(a))"
      ],
      "metadata": {
        "colab": {
          "base_uri": "https://localhost:8080/",
          "height": 0
        },
        "id": "EG1FuvTDy1o0",
        "outputId": "49ae8cf8-c2f9-4b02-95aa-87657092f54c"
      },
      "execution_count": 15,
      "outputs": [
        {
          "output_type": "stream",
          "name": "stdout",
          "text": [
            "standard devitation of a is  156.97770542341354\n",
            "variance of a is  24642.0\n"
          ]
        }
      ]
    },
    {
      "cell_type": "code",
      "source": [],
      "metadata": {
        "id": "X3rQ0gHcy4Fk"
      },
      "execution_count": null,
      "outputs": []
    },
    {
      "cell_type": "code",
      "source": [
        "# numpy.sum() method\n",
        "import numpy as np\n",
        "\n",
        "# 1D array\n",
        "arr = [20, 2, .2, 10, 4]\n",
        "\n",
        "print(\"\\nSum of arr : \", np.sum(arr))\n",
        "\n",
        "print(\"Sum of arr(uint8) : \", np.sum(arr, dtype = np.uint8))\n",
        "print(\"Sum of arr(float32) : \", np.sum(arr, dtype = np.float32))\n",
        "\n",
        "print (\"\\nIs np.sum(arr).dtype == np.uint : \",\n",
        "    np.sum(arr).dtype == np.uint)\n",
        "\n",
        "print (\"\\nIs np.sum(arr).dtype == np.uint8 : \",\n",
        "    np.sum(arr).dtype == np.uint8)\n"
      ],
      "metadata": {
        "colab": {
          "base_uri": "https://localhost:8080/",
          "height": 0
        },
        "id": "9grvW3jVyx3K",
        "outputId": "d75ea59d-fa4f-4e95-c615-37cfbbe41b41"
      },
      "execution_count": 19,
      "outputs": [
        {
          "output_type": "stream",
          "name": "stdout",
          "text": [
            "\n",
            "Sum of arr :  36.2\n",
            "Sum of arr(uint8) :  36\n",
            "Sum of arr(float32) :  36.2\n",
            "\n",
            "Is np.sum(arr).dtype == np.uint :  False\n",
            "\n",
            "Is np.sum(arr).dtype == np.uint8 :  False\n"
          ]
        }
      ]
    },
    {
      "cell_type": "markdown",
      "source": [
        "**Data Analysis Using Numpy**"
      ],
      "metadata": {
        "id": "arsx0G3j2eAc"
      }
    },
    {
      "cell_type": "code",
      "source": [
        "# Simulating data for analysis\n",
        "data = np.random.randn(1000)  # 1000 data points from a standard normal distribution\n",
        "\n",
        "# Finding correlations (e.g., between two random datasets)\n",
        "data2 = np.random.randn(1000)\n",
        "correlation = np.corrcoef(data, data2)[0, 1]\n",
        "\n",
        "# Identifying outliers (values > 3 standard deviations from the mean)\n",
        "outliers = data[np.abs(data) > 3]\n",
        "\n",
        "# Calculating percentiles\n",
        "percentile_25 = np.percentile(data, 25)\n",
        "percentile_50 = np.percentile(data, 50)\n",
        "percentile_75 = np.percentile(data, 75)\n",
        "\n",
        "print(\"Correlation between data1 and data2:\", correlation)\n",
        "print(\"Outliers in data:\", outliers)\n",
        "print(\"25th Percentile:\", percentile_25)\n",
        "print(\"50th Percentile (Median):\", percentile_50)\n",
        "print(\"75th Percentile:\", percentile_75)\n"
      ],
      "metadata": {
        "colab": {
          "base_uri": "https://localhost:8080/",
          "height": 0
        },
        "id": "XhXrFlnCzpmx",
        "outputId": "d3e7b6a0-5881-43d2-a152-2885e76564b9"
      },
      "execution_count": 22,
      "outputs": [
        {
          "output_type": "stream",
          "name": "stdout",
          "text": [
            "Correlation between data1 and data2: 0.011348615586600047\n",
            "Outliers in data: [-3.55684042 -3.64329445  3.25560783  3.0433858   3.16297832  3.12487337\n",
            "  3.03068065]\n",
            "25th Percentile: -0.6767889600241951\n",
            "50th Percentile (Median): -0.016940314322712084\n",
            "75th Percentile: 0.6390771010287094\n"
          ]
        }
      ]
    },
    {
      "cell_type": "markdown",
      "source": [
        "### Conclusion: The Role of NumPy in Data Science\n",
        "\n",
        "In the realm of data science, NumPy plays a crucial role due to its ability to efficiently handle and manipulate large datasets, a common requirement in various data-driven fields. By leveraging the power of NumPy, data science professionals can achieve significant improvements in both the performance and scalability of their numerical computations.\n",
        "\n",
        "### **Advantages of Using NumPy Over Traditional Python Data Structures:**\n",
        "\n",
        "1. **Performance and Speed:**\n",
        "   - NumPy is implemented in C and takes advantage of highly optimized algorithms, which makes it significantly faster than traditional Python lists or loops when performing operations on large datasets. This speed advantage is critical when working with big data, as it allows for rapid data processing and analysis.\n",
        "\n",
        "2. **Memory Efficiency:**\n",
        "   - NumPy arrays are more memory-efficient than Python lists. This efficiency comes from NumPy’s use of a contiguous block of memory to store array elements, allowing for efficient reading, writing, and manipulation. For data science professionals dealing with massive datasets, this reduction in memory usage can make a substantial difference.\n",
        "\n",
        "3. **Vectorization and Broadcasting:**\n",
        "   - NumPy enables vectorized operations, meaning operations can be applied to entire arrays without the need for explicit loops. This leads to more concise and readable code. Additionally, NumPy's broadcasting feature allows operations on arrays of different shapes, enhancing flexibility and simplifying the code.\n",
        "\n",
        "4. **Comprehensive Mathematical Functions:**\n",
        "   - NumPy provides a vast array of built-in mathematical functions, such as statistical operations, linear algebra, and random number generation. These functions are highly optimized for performance and allow data scientists to perform complex mathematical calculations with ease and precision.\n",
        "\n",
        "5. **Integration with Other Libraries:**\n",
        "   - NumPy serves as the foundation for many other powerful data science libraries, such as pandas, SciPy, scikit-learn, and TensorFlow. This integration makes NumPy indispensable in the data science ecosystem, as it allows seamless transitions between different tools and libraries used in the data analysis pipeline.\n",
        "\n",
        "6. **Ease of Data Manipulation and Analysis:**\n",
        "   - With NumPy, data manipulation tasks like reshaping, indexing, slicing, and aggregating data become straightforward and efficient. This is especially important in data science, where data preparation and preprocessing are crucial steps before any analysis or modeling can be performed.\n",
        "\n",
        "### **Conclusion:**\n",
        "\n",
        "The use of NumPy in data science is not just beneficial; it is often essential. Its advantages over traditional Python data structures in terms of performance, memory efficiency, and ease of use make it a preferred tool for numerical computations. Whether performing basic data manipulation, conducting statistical analysis, or building complex machine learning models, NumPy provides the robust and efficient infrastructure needed to handle the vast quantities of data that modern data science demands."
      ],
      "metadata": {
        "id": "8AYZMJtj1SyX"
      }
    },
    {
      "cell_type": "code",
      "source": [],
      "metadata": {
        "id": "Z3L1etvz0d5z"
      },
      "execution_count": null,
      "outputs": []
    },
    {
      "cell_type": "markdown",
      "source": [],
      "metadata": {
        "id": "l2Ac69O408fE"
      }
    },
    {
      "cell_type": "markdown",
      "source": [
        "### Real-World Examples of NumPy's Crucial Capabilities\n",
        "\n",
        "1. **Machine Learning:**\n",
        "   - **Data Preprocessing:** NumPy is essential for normalizing data, creating training/test splits, and scaling features. It also handles image data efficiently in deep learning tasks.\n",
        "   - **Linear Algebra:** Key machine learning algorithms, such as linear regression and neural networks, rely on NumPy for fast matrix operations and other linear algebra tasks.\n",
        "\n",
        "2. **Financial Analysis:**\n",
        "   - **Time Series Analysis:** NumPy is used to compute rolling statistics, moving averages, and other time-dependent calculations, crucial for forecasting and trend analysis.\n",
        "   - **Portfolio Optimization:** NumPy's mathematical functions help in optimizing asset allocation by calculating covariance, returns, and risk metrics efficiently.\n",
        "\n",
        "3. **Scientific Research:**\n",
        "   - **Physics and Chemistry:** NumPy handles large datasets from experiments or simulations, enabling efficient analysis of atomic interactions and other physical phenomena.\n",
        "   - **Genomics:** In bioinformatics, NumPy is used for managing and analyzing large-scale DNA sequences, aiding in genetic research and evolutionary studies.\n",
        "\n",
        "### Conclusion:\n",
        "NumPy's ability to efficiently process large datasets and perform complex calculations makes it indispensable in machine learning, financial analysis, and scientific research, among other fields."
      ],
      "metadata": {
        "id": "DZvHRy_11NLP"
      }
    },
    {
      "cell_type": "code",
      "source": [],
      "metadata": {
        "id": "rbdxA3e01Ozr"
      },
      "execution_count": null,
      "outputs": []
    }
  ]
}